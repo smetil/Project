{
 "cells": [
  {
   "cell_type": "code",
   "execution_count": 1,
   "id": "539da2c1-04a3-492c-b566-575e11b8ec9a",
   "metadata": {},
   "outputs": [
    {
     "name": "stdout",
     "output_type": "stream",
     "text": [
      "Requirement already satisfied: pandas in c:\\users\\admin\\anaconda3\\lib\\site-packages (2.2.2)\n",
      "Requirement already satisfied: numpy in c:\\users\\admin\\anaconda3\\lib\\site-packages (1.26.4)\n",
      "Requirement already satisfied: scikit-learn in c:\\users\\admin\\anaconda3\\lib\\site-packages (1.5.1)\n",
      "Requirement already satisfied: seaborn in c:\\users\\admin\\anaconda3\\lib\\site-packages (0.13.2)\n",
      "Requirement already satisfied: matplotlib in c:\\users\\admin\\anaconda3\\lib\\site-packages (3.9.2)\n",
      "Requirement already satisfied: python-dateutil>=2.8.2 in c:\\users\\admin\\anaconda3\\lib\\site-packages (from pandas) (2.9.0.post0)\n",
      "Requirement already satisfied: pytz>=2020.1 in c:\\users\\admin\\anaconda3\\lib\\site-packages (from pandas) (2024.1)\n",
      "Requirement already satisfied: tzdata>=2022.7 in c:\\users\\admin\\anaconda3\\lib\\site-packages (from pandas) (2023.3)\n",
      "Requirement already satisfied: scipy>=1.6.0 in c:\\users\\admin\\anaconda3\\lib\\site-packages (from scikit-learn) (1.13.1)\n",
      "Requirement already satisfied: joblib>=1.2.0 in c:\\users\\admin\\anaconda3\\lib\\site-packages (from scikit-learn) (1.4.2)\n",
      "Requirement already satisfied: threadpoolctl>=3.1.0 in c:\\users\\admin\\anaconda3\\lib\\site-packages (from scikit-learn) (3.5.0)\n",
      "Requirement already satisfied: contourpy>=1.0.1 in c:\\users\\admin\\anaconda3\\lib\\site-packages (from matplotlib) (1.2.0)\n",
      "Requirement already satisfied: cycler>=0.10 in c:\\users\\admin\\anaconda3\\lib\\site-packages (from matplotlib) (0.11.0)\n",
      "Requirement already satisfied: fonttools>=4.22.0 in c:\\users\\admin\\anaconda3\\lib\\site-packages (from matplotlib) (4.51.0)\n",
      "Requirement already satisfied: kiwisolver>=1.3.1 in c:\\users\\admin\\anaconda3\\lib\\site-packages (from matplotlib) (1.4.4)\n",
      "Requirement already satisfied: packaging>=20.0 in c:\\users\\admin\\anaconda3\\lib\\site-packages (from matplotlib) (24.1)\n",
      "Requirement already satisfied: pillow>=8 in c:\\users\\admin\\anaconda3\\lib\\site-packages (from matplotlib) (10.4.0)\n",
      "Requirement already satisfied: pyparsing>=2.3.1 in c:\\users\\admin\\anaconda3\\lib\\site-packages (from matplotlib) (3.1.2)\n",
      "Requirement already satisfied: six>=1.5 in c:\\users\\admin\\anaconda3\\lib\\site-packages (from python-dateutil>=2.8.2->pandas) (1.16.0)\n",
      "Note: you may need to restart the kernel to use updated packages.\n"
     ]
    }
   ],
   "source": [
    "!pip install pandas numpy scikit-learn seaborn matplotlib\n"
   ]
  },
  {
   "cell_type": "code",
   "execution_count": 2,
   "id": "927b3a0f-80ed-4e89-8f25-eec17e000420",
   "metadata": {},
   "outputs": [],
   "source": [
    "import pandas as pd\n",
    "import numpy as np\n",
    "from sklearn.model_selection import train_test_split\n",
    "from sklearn.linear_model import LinearRegression\n",
    "from sklearn.tree import DecisionTreeRegressor\n",
    "from sklearn.metrics import mean_squared_error, r2_score\n",
    "import seaborn as sns\n",
    "import matplotlib.pyplot as plt\n"
   ]
  },
  {
   "cell_type": "code",
   "execution_count": 3,
   "id": "f1f7241b-2bf7-466c-af1d-1488c3d269d1",
   "metadata": {},
   "outputs": [],
   "source": [
    "import pandas as pd\n",
    "\n",
    "data = pd.DataFrame({\n",
    "    'area': [\n",
    "        1000, 1500, 1800, 2400, 3000, 1100, 1400, 1600, 2000, 2200,\n",
    "        1250, 1700, 1900, 2100, 2800, 1350, 1450, 1550, 1650, 1750,\n",
    "        1850, 1950, 2050, 2150, 2250, 2300, 2400, 2500, 2600, 2700\n",
    "    ],\n",
    "    'bedrooms': [\n",
    "        2, 3, 3, 4, 5, 2, 3, 3, 4, 4,\n",
    "        2, 3, 4, 4, 5, 2, 3, 3, 3, 4,\n",
    "        3, 4, 4, 4, 5, 5, 4, 4, 5, 5\n",
    "    ],\n",
    "    'location': [\n",
    "        'Pune', 'Mumbai', 'Delhi', 'Pune', 'Mumbai', 'Delhi', 'Hyderabad', 'Bangalore', 'Mumbai', 'Bangalore',\n",
    "        'Hyderabad', 'Delhi', 'Pune', 'Mumbai', 'Bangalore', 'Hyderabad', 'Pune', 'Delhi', 'Mumbai', 'Hyderabad',\n",
    "        'Bangalore', 'Pune', 'Mumbai', 'Delhi', 'Bangalore', 'Pune', 'Hyderabad', 'Delhi', 'Mumbai', 'Bangalore'\n",
    "    ],\n",
    "    'price': [\n",
    "        50, 80, 90, 120, 150, 55, 75, 100, 140, 135,\n",
    "        70, 95, 115, 145, 160, 65, 85, 88, 105, 110,\n",
    "        108, 119, 138, 99, 128, 118, 132, 102, 142, 150\n",
    "    ]  # in Lakhs\n",
    "})\n"
   ]
  },
  {
   "cell_type": "code",
   "execution_count": 7,
   "id": "6488cc0b-b1cb-47e5-8820-64f1dcc189fa",
   "metadata": {},
   "outputs": [
    {
     "data": {
      "text/html": [
       "<div>\n",
       "<style scoped>\n",
       "    .dataframe tbody tr th:only-of-type {\n",
       "        vertical-align: middle;\n",
       "    }\n",
       "\n",
       "    .dataframe tbody tr th {\n",
       "        vertical-align: top;\n",
       "    }\n",
       "\n",
       "    .dataframe thead th {\n",
       "        text-align: right;\n",
       "    }\n",
       "</style>\n",
       "<table border=\"1\" class=\"dataframe\">\n",
       "  <thead>\n",
       "    <tr style=\"text-align: right;\">\n",
       "      <th></th>\n",
       "      <th>area</th>\n",
       "      <th>bedrooms</th>\n",
       "      <th>location</th>\n",
       "      <th>price</th>\n",
       "    </tr>\n",
       "  </thead>\n",
       "  <tbody>\n",
       "    <tr>\n",
       "      <th>0</th>\n",
       "      <td>1000</td>\n",
       "      <td>2</td>\n",
       "      <td>Pune</td>\n",
       "      <td>50</td>\n",
       "    </tr>\n",
       "    <tr>\n",
       "      <th>1</th>\n",
       "      <td>1500</td>\n",
       "      <td>3</td>\n",
       "      <td>Mumbai</td>\n",
       "      <td>80</td>\n",
       "    </tr>\n",
       "    <tr>\n",
       "      <th>2</th>\n",
       "      <td>1800</td>\n",
       "      <td>3</td>\n",
       "      <td>Delhi</td>\n",
       "      <td>90</td>\n",
       "    </tr>\n",
       "    <tr>\n",
       "      <th>3</th>\n",
       "      <td>2400</td>\n",
       "      <td>4</td>\n",
       "      <td>Pune</td>\n",
       "      <td>120</td>\n",
       "    </tr>\n",
       "    <tr>\n",
       "      <th>4</th>\n",
       "      <td>3000</td>\n",
       "      <td>5</td>\n",
       "      <td>Mumbai</td>\n",
       "      <td>150</td>\n",
       "    </tr>\n",
       "  </tbody>\n",
       "</table>\n",
       "</div>"
      ],
      "text/plain": [
       "   area  bedrooms location  price\n",
       "0  1000         2     Pune     50\n",
       "1  1500         3   Mumbai     80\n",
       "2  1800         3    Delhi     90\n",
       "3  2400         4     Pune    120\n",
       "4  3000         5   Mumbai    150"
      ]
     },
     "execution_count": 7,
     "metadata": {},
     "output_type": "execute_result"
    }
   ],
   "source": [
    "data.head()"
   ]
  },
  {
   "cell_type": "code",
   "execution_count": 9,
   "id": "667d8b62-8dfa-4178-bcf7-73a586f4fd08",
   "metadata": {},
   "outputs": [
    {
     "name": "stdout",
     "output_type": "stream",
     "text": [
      "<class 'pandas.core.frame.DataFrame'>\n",
      "RangeIndex: 30 entries, 0 to 29\n",
      "Data columns (total 4 columns):\n",
      " #   Column    Non-Null Count  Dtype \n",
      "---  ------    --------------  ----- \n",
      " 0   area      30 non-null     int64 \n",
      " 1   bedrooms  30 non-null     int64 \n",
      " 2   location  30 non-null     object\n",
      " 3   price     30 non-null     int64 \n",
      "dtypes: int64(3), object(1)\n",
      "memory usage: 1.1+ KB\n",
      "None\n"
     ]
    }
   ],
   "source": [
    "print(data.info())"
   ]
  },
  {
   "cell_type": "code",
   "execution_count": 10,
   "id": "e3da92c7-08f5-4b2d-a9d7-56c61ba6531c",
   "metadata": {},
   "outputs": [
    {
     "data": {
      "text/html": [
       "<div>\n",
       "<style scoped>\n",
       "    .dataframe tbody tr th:only-of-type {\n",
       "        vertical-align: middle;\n",
       "    }\n",
       "\n",
       "    .dataframe tbody tr th {\n",
       "        vertical-align: top;\n",
       "    }\n",
       "\n",
       "    .dataframe thead th {\n",
       "        text-align: right;\n",
       "    }\n",
       "</style>\n",
       "<table border=\"1\" class=\"dataframe\">\n",
       "  <thead>\n",
       "    <tr style=\"text-align: right;\">\n",
       "      <th></th>\n",
       "      <th>area</th>\n",
       "      <th>bedrooms</th>\n",
       "      <th>price</th>\n",
       "    </tr>\n",
       "  </thead>\n",
       "  <tbody>\n",
       "    <tr>\n",
       "      <th>count</th>\n",
       "      <td>30.000000</td>\n",
       "      <td>30.000000</td>\n",
       "      <td>30.000000</td>\n",
       "    </tr>\n",
       "    <tr>\n",
       "      <th>mean</th>\n",
       "      <td>1941.666667</td>\n",
       "      <td>3.633333</td>\n",
       "      <td>108.966667</td>\n",
       "    </tr>\n",
       "    <tr>\n",
       "      <th>std</th>\n",
       "      <td>512.109116</td>\n",
       "      <td>0.964305</td>\n",
       "      <td>29.784841</td>\n",
       "    </tr>\n",
       "    <tr>\n",
       "      <th>min</th>\n",
       "      <td>1000.000000</td>\n",
       "      <td>2.000000</td>\n",
       "      <td>50.000000</td>\n",
       "    </tr>\n",
       "    <tr>\n",
       "      <th>25%</th>\n",
       "      <td>1562.500000</td>\n",
       "      <td>3.000000</td>\n",
       "      <td>88.500000</td>\n",
       "    </tr>\n",
       "    <tr>\n",
       "      <th>50%</th>\n",
       "      <td>1925.000000</td>\n",
       "      <td>4.000000</td>\n",
       "      <td>109.000000</td>\n",
       "    </tr>\n",
       "    <tr>\n",
       "      <th>75%</th>\n",
       "      <td>2287.500000</td>\n",
       "      <td>4.000000</td>\n",
       "      <td>134.250000</td>\n",
       "    </tr>\n",
       "    <tr>\n",
       "      <th>max</th>\n",
       "      <td>3000.000000</td>\n",
       "      <td>5.000000</td>\n",
       "      <td>160.000000</td>\n",
       "    </tr>\n",
       "  </tbody>\n",
       "</table>\n",
       "</div>"
      ],
      "text/plain": [
       "              area   bedrooms       price\n",
       "count    30.000000  30.000000   30.000000\n",
       "mean   1941.666667   3.633333  108.966667\n",
       "std     512.109116   0.964305   29.784841\n",
       "min    1000.000000   2.000000   50.000000\n",
       "25%    1562.500000   3.000000   88.500000\n",
       "50%    1925.000000   4.000000  109.000000\n",
       "75%    2287.500000   4.000000  134.250000\n",
       "max    3000.000000   5.000000  160.000000"
      ]
     },
     "execution_count": 10,
     "metadata": {},
     "output_type": "execute_result"
    }
   ],
   "source": [
    "data.describe()"
   ]
  },
  {
   "cell_type": "code",
   "execution_count": 11,
   "id": "b85ad19c-c068-4937-83e3-5744b629dbcc",
   "metadata": {},
   "outputs": [
    {
     "data": {
      "text/plain": [
       "area        0\n",
       "bedrooms    0\n",
       "location    0\n",
       "price       0\n",
       "dtype: int64"
      ]
     },
     "execution_count": 11,
     "metadata": {},
     "output_type": "execute_result"
    }
   ],
   "source": [
    "data.isnull().sum()"
   ]
  },
  {
   "cell_type": "code",
   "execution_count": 16,
   "id": "819f906b-5ec8-45ca-bf33-efd51c1bd6ff",
   "metadata": {},
   "outputs": [
    {
     "data": {
      "image/png": "[encoded data removed]",
      "text/plain": [
       "<Figure size 640x480 with 2 Axes>"
      ]
     },
     "metadata": {},
     "output_type": "display_data"
    },
    {
     "data": {
      "image/png": "[encoded data removed]",
      "text/plain": [
       "<Figure size 750x750 with 12 Axes>"
      ]
     },
     "metadata": {},
     "output_type": "display_data"
    },
    {
     "data": {
      "image/png": "[encoded data removed]",
      "text/plain": [
       "<Figure size 640x480 with 1 Axes>"
      ]
     },
     "metadata": {},
     "output_type": "display_data"
    }
   ],
   "source": [
    "# Select only numeric columns\n",
    "numeric_data = data.select_dtypes(include=['number'])\n",
    "\n",
    "# Plot heatmap\n",
    "sns.heatmap(numeric_data.corr(), annot=True, cmap='coolwarm')\n",
    "plt.title(\"Correlation Heatmap\")\n",
    "plt.show()\n",
    "\n",
    "sns.pairplot(data)\n",
    "plt.show()\n",
    "\n",
    "sns.boxplot(x='location', y='price', data=data)\n",
    "plt.xticks(rotation=90)\n",
    "plt.show()\n"
   ]
  },
  {
   "cell_type": "code",
   "execution_count": 20,
   "id": "8cb3cae5-97e7-4578-969c-67329e4b9df0",
   "metadata": {},
   "outputs": [],
   "source": [
    "from sklearn.preprocessing import LabelEncoder"
   ]
  },
  {
   "cell_type": "code",
   "execution_count": 22,
   "id": "f259b090-4ecc-4527-a619-03128b1bb6d1",
   "metadata": {},
   "outputs": [],
   "source": [
    "le = LabelEncoder()\n",
    "data['location_encoded'] = le.fit_transform(data['location'])\n"
   ]
  },
  {
   "cell_type": "code",
   "execution_count": 25,
   "id": "8b0591af-d775-465c-8311-4bdb211bb5bd",
   "metadata": {},
   "outputs": [],
   "source": [
    "from sklearn.preprocessing import OneHotEncoder\n",
    "import pandas as pd"
   ]
  },
  {
   "cell_type": "code",
   "execution_count": 27,
   "id": "b8f68e8d-3f5d-417c-adfe-69b85da69d13",
   "metadata": {},
   "outputs": [],
   "source": [
    "ohe = OneHotEncoder(drop='first', sparse_output=False)\n",
    "encoded_location = ohe.fit_transform(data[['location']])\n",
    "encoded_df = pd.DataFrame(encoded_location, columns=ohe.get_feature_names_out(['location']))\n"
   ]
  },
  {
   "cell_type": "code",
   "execution_count": 29,
   "id": "e9d42390-7c6f-4e31-b0df-52d171923753",
   "metadata": {},
   "outputs": [
    {
     "name": "stdout",
     "output_type": "stream",
     "text": [
      "Feature Importance:\n",
      " price                 1.000000\n",
      "bedrooms              0.889192\n",
      "area                  0.884709\n",
      "location_Mumbai       0.369329\n",
      "location_encoded     -0.068642\n",
      "location_Pune        -0.133178\n",
      "location_Hyderabad   -0.283541\n",
      "location_Delhi       -0.355140\n",
      "Name: price, dtype: float64\n"
     ]
    }
   ],
   "source": [
    "# Drop original 'location' and join one-hot encoded location\n",
    "df_final = pd.concat([data.drop(['location'], axis=1), encoded_df], axis=1)\n",
    "\n",
    "# Correlation with target\n",
    "correlation = df_final.corr()\n",
    "important_features = correlation['price'].sort_values(ascending=False)\n",
    "print(\"Feature Importance:\\n\", important_features)\n",
    "\n",
    "# Let's use all features except 'price'\n",
    "X = df_final.drop('price', axis=1)\n",
    "y = df_final['price']\n"
   ]
  },
  {
   "cell_type": "code",
   "execution_count": 30,
   "id": "e606daf2-8c09-4320-b7d4-76d84fa1bb92",
   "metadata": {},
   "outputs": [],
   "source": [
    "X_train, X_test, y_train, y_test = train_test_split(X, y, test_size=0.2, random_state=42)\n"
   ]
  },
  {
   "cell_type": "code",
   "execution_count": 34,
   "id": "9ca8780b-7c49-4165-84c4-d9de129f3086",
   "metadata": {},
   "outputs": [
    {
     "data": {
      "text/plain": [
       "28    142\n",
       "24    128\n",
       "12    115\n",
       "0      50\n",
       "4     150\n",
       "16     85\n",
       "5      55\n",
       "13    145\n",
       "11     95\n",
       "22    138\n",
       "1      80\n",
       "2      90\n",
       "25    118\n",
       "3     120\n",
       "21    119\n",
       "26    132\n",
       "18    105\n",
       "29    150\n",
       "20    108\n",
       "7     100\n",
       "10     70\n",
       "14    160\n",
       "19    110\n",
       "6      75\n",
       "Name: price, dtype: int64"
      ]
     },
     "execution_count": 34,
     "metadata": {},
     "output_type": "execute_result"
    }
   ],
   "source": [
    "y_train"
   ]
  },
  {
   "cell_type": "code",
   "execution_count": 35,
   "id": "3f337dae-cd68-493b-8e12-041cf7c9fd51",
   "metadata": {},
   "outputs": [],
   "source": [
    "lr = LinearRegression()\n",
    "lr.fit(X_train, y_train)\n",
    "y_pred_lr = lr.predict(X_test)\n"
   ]
  },
  {
   "cell_type": "code",
   "execution_count": 36,
   "id": "04577b01-02be-4c82-8691-55cce7085b39",
   "metadata": {},
   "outputs": [],
   "source": [
    "dt = DecisionTreeRegressor()\n",
    "dt.fit(X_train, y_train)\n",
    "y_pred_dt = dt.predict(X_test)\n"
   ]
  },
  {
   "cell_type": "code",
   "execution_count": 37,
   "id": "cd679c53-7bde-4004-aa0c-49c8f2b16943",
   "metadata": {},
   "outputs": [
    {
     "name": "stdout",
     "output_type": "stream",
     "text": [
      "Linear Regression R2 Score: 0.7014280479856769\n",
      "Decision Tree R2 Score: 0.4663491150987559\n",
      "Linear MSE: 201.97563187235588\n",
      "Decision Tree MSE: 361.0\n"
     ]
    }
   ],
   "source": [
    "print(\"Linear Regression R2 Score:\", r2_score(y_test, y_pred_lr))\n",
    "print(\"Decision Tree R2 Score:\", r2_score(y_test, y_pred_dt))\n",
    "\n",
    "print(\"Linear MSE:\", mean_squared_error(y_test, y_pred_lr))\n",
    "print(\"Decision Tree MSE:\", mean_squared_error(y_test, y_pred_dt))\n"
   ]
  },
  {
   "cell_type": "code",
   "execution_count": null,
   "id": "f7f0022e-4fa8-4221-89a9-2cd3dbcccacb",
   "metadata": {},
   "outputs": [],
   "source": []
  }
 ],
 "metadata": {
  "kernelspec": {
   "display_name": "Python [conda env:base] *",
   "language": "python",
   "name": "conda-base-py"
  },
  "language_info": {
   "codemirror_mode": {
    "name": "ipython",
    "version": 3
   },
   "file_extension": ".py",
   "mimetype": "text/x-python",
   "name": "python",
   "nbconvert_exporter": "python",
   "pygments_lexer": "ipython3",
   "version": "3.12.7"
  }
 },
 "nbformat": 4,
 "nbformat_minor": 5
}
